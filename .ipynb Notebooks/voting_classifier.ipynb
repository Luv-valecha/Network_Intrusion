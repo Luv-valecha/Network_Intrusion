{
 "cells": [
  {
   "cell_type": "code",
   "execution_count": 1,
   "metadata": {},
   "outputs": [],
   "source": [
    "from sklearn.ensemble import VotingClassifier\n",
    "from sklearn.metrics import accuracy_score\n",
    "import pickle\n",
    "import pandas as pd\n",
    "import numpy as np\n",
    "import os, sys\n",
    "\n",
    "# Add the parent directory so that the 'scripts' folder is on the path\n",
    "sys.path.append(os.path.join(os.getcwd(), \"..\")) \n",
    "from API.model.voting_classifier import votingClassifier\n",
    "from API.scripts.evaluate import ModelEvaluator"
   ]
  },
  {
   "cell_type": "code",
   "execution_count": 2,
   "metadata": {},
   "outputs": [],
   "source": [
    "train_path = r\"..\\API\\data\\processed\\train_data.csv\"\n",
    "train = pd.read_csv(train_path)\n",
    "# train_label = train[\"class\"]\n",
    "# train.drop('class',inplace=True,axis=1)\n",
    "\n",
    "test_path = r\"..\\API\\data\\processed\\test_data.csv\"\n",
    "test = pd.read_csv(test_path)\n",
    "test_label = test[\"class\"]\n",
    "test.drop('class',inplace=True,axis=1)"
   ]
  },
  {
   "cell_type": "code",
   "execution_count": 3,
   "metadata": {},
   "outputs": [],
   "source": [
    "v = votingClassifier(r\"..\\API\\model\\saved_models\")\n",
    "v.create_voting_classifier()\n",
    "v.train(train_path)\n"
   ]
  },
  {
   "cell_type": "code",
   "execution_count": 4,
   "metadata": {},
   "outputs": [],
   "source": [
    "pred = v.predict(test)"
   ]
  },
  {
   "cell_type": "code",
   "execution_count": 5,
   "metadata": {},
   "outputs": [
    {
     "data": {
      "text/plain": [
       "np.int64(5022)"
      ]
     },
     "execution_count": 5,
     "metadata": {},
     "output_type": "execute_result"
    }
   ],
   "source": [
    "np.sum(pred == test_label)\n"
   ]
  },
  {
   "cell_type": "code",
   "execution_count": 6,
   "metadata": {},
   "outputs": [
    {
     "name": "stdout",
     "output_type": "stream",
     "text": [
      " Model saved\n"
     ]
    }
   ],
   "source": [
    "v.save_model(r\"..\\API\\model\\saved_models\\voting_model.pkl\")"
   ]
  },
  {
   "cell_type": "code",
   "execution_count": null,
   "metadata": {},
   "outputs": [],
   "source": []
  }
 ],
 "metadata": {
  "kernelspec": {
   "display_name": "Python 3",
   "language": "python",
   "name": "python3"
  },
  "language_info": {
   "codemirror_mode": {
    "name": "ipython",
    "version": 3
   },
   "file_extension": ".py",
   "mimetype": "text/x-python",
   "name": "python",
   "nbconvert_exporter": "python",
   "pygments_lexer": "ipython3",
   "version": "3.13.2"
  }
 },
 "nbformat": 4,
 "nbformat_minor": 2
}
