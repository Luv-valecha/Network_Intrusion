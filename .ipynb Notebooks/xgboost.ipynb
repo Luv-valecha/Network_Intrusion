{
 "cells": [
  {
   "cell_type": "code",
   "execution_count": null,
   "metadata": {},
   "outputs": [],
   "source": [
    "import sklearn\n",
    "import numpy as np\n",
    "import pandas as pd\n",
    "from sklearn.model_selection import train_test_split\n",
    "import xgboost as xgb\n",
    "from sklearn.metrics import accuracy_score,recall_score"
   ]
  },
  {
   "cell_type": "code",
   "execution_count": 78,
   "metadata": {},
   "outputs": [],
   "source": [
    "train = pd.read_csv(r\"..\\API\\data\\processed\\train_data.csv\")\n",
    "train_label = train[\"class\"]\n",
    "train.drop('class',inplace=True,axis=1)\n",
    "\n",
    "train,val,train_label,val_label = train_test_split(train,train_label,random_state=42,test_size=0.1)\n",
    "\n",
    "test = pd.read_csv(r\"..\\API\\data\\processed\\test_data.csv\")\n",
    "test_label = test[\"class\"]\n",
    "test.drop('class',inplace=True,axis=1)\n"
   ]
  },
  {
   "cell_type": "code",
   "execution_count": 79,
   "metadata": {},
   "outputs": [
    {
     "data": {
      "text/html": [
       "<div>\n",
       "<style scoped>\n",
       "    .dataframe tbody tr th:only-of-type {\n",
       "        vertical-align: middle;\n",
       "    }\n",
       "\n",
       "    .dataframe tbody tr th {\n",
       "        vertical-align: top;\n",
       "    }\n",
       "\n",
       "    .dataframe thead th {\n",
       "        text-align: right;\n",
       "    }\n",
       "</style>\n",
       "<table border=\"1\" class=\"dataframe\">\n",
       "  <thead>\n",
       "    <tr style=\"text-align: right;\">\n",
       "      <th></th>\n",
       "      <th>service</th>\n",
       "      <th>flag</th>\n",
       "      <th>src_bytes</th>\n",
       "      <th>dst_bytes</th>\n",
       "      <th>same_srv_rate</th>\n",
       "      <th>diff_srv_rate</th>\n",
       "      <th>dst_host_srv_count</th>\n",
       "      <th>dst_host_same_srv_rate</th>\n",
       "      <th>dst_host_diff_srv_rate</th>\n",
       "      <th>dst_host_serror_rate</th>\n",
       "    </tr>\n",
       "  </thead>\n",
       "  <tbody>\n",
       "    <tr>\n",
       "      <th>17527</th>\n",
       "      <td>17</td>\n",
       "      <td>5</td>\n",
       "      <td>0</td>\n",
       "      <td>0</td>\n",
       "      <td>0.33</td>\n",
       "      <td>0.17</td>\n",
       "      <td>36</td>\n",
       "      <td>0.14</td>\n",
       "      <td>0.05</td>\n",
       "      <td>1.0</td>\n",
       "    </tr>\n",
       "    <tr>\n",
       "      <th>14304</th>\n",
       "      <td>22</td>\n",
       "      <td>9</td>\n",
       "      <td>236</td>\n",
       "      <td>3222</td>\n",
       "      <td>1.00</td>\n",
       "      <td>0.00</td>\n",
       "      <td>229</td>\n",
       "      <td>0.90</td>\n",
       "      <td>0.02</td>\n",
       "      <td>0.0</td>\n",
       "    </tr>\n",
       "    <tr>\n",
       "      <th>13196</th>\n",
       "      <td>15</td>\n",
       "      <td>5</td>\n",
       "      <td>0</td>\n",
       "      <td>0</td>\n",
       "      <td>0.13</td>\n",
       "      <td>0.06</td>\n",
       "      <td>18</td>\n",
       "      <td>0.07</td>\n",
       "      <td>0.06</td>\n",
       "      <td>1.0</td>\n",
       "    </tr>\n",
       "    <tr>\n",
       "      <th>7735</th>\n",
       "      <td>22</td>\n",
       "      <td>9</td>\n",
       "      <td>221</td>\n",
       "      <td>2280</td>\n",
       "      <td>1.00</td>\n",
       "      <td>0.00</td>\n",
       "      <td>255</td>\n",
       "      <td>1.00</td>\n",
       "      <td>0.00</td>\n",
       "      <td>0.0</td>\n",
       "    </tr>\n",
       "    <tr>\n",
       "      <th>1866</th>\n",
       "      <td>22</td>\n",
       "      <td>9</td>\n",
       "      <td>207</td>\n",
       "      <td>27865</td>\n",
       "      <td>1.00</td>\n",
       "      <td>0.00</td>\n",
       "      <td>255</td>\n",
       "      <td>1.00</td>\n",
       "      <td>0.00</td>\n",
       "      <td>0.0</td>\n",
       "    </tr>\n",
       "  </tbody>\n",
       "</table>\n",
       "</div>"
      ],
      "text/plain": [
       "       service  flag  src_bytes  dst_bytes  same_srv_rate  diff_srv_rate  \\\n",
       "17527       17     5          0          0           0.33           0.17   \n",
       "14304       22     9        236       3222           1.00           0.00   \n",
       "13196       15     5          0          0           0.13           0.06   \n",
       "7735        22     9        221       2280           1.00           0.00   \n",
       "1866        22     9        207      27865           1.00           0.00   \n",
       "\n",
       "       dst_host_srv_count  dst_host_same_srv_rate  dst_host_diff_srv_rate  \\\n",
       "17527                  36                    0.14                    0.05   \n",
       "14304                 229                    0.90                    0.02   \n",
       "13196                  18                    0.07                    0.06   \n",
       "7735                  255                    1.00                    0.00   \n",
       "1866                  255                    1.00                    0.00   \n",
       "\n",
       "       dst_host_serror_rate  \n",
       "17527                   1.0  \n",
       "14304                   0.0  \n",
       "13196                   1.0  \n",
       "7735                    0.0  \n",
       "1866                    0.0  "
      ]
     },
     "execution_count": 79,
     "metadata": {},
     "output_type": "execute_result"
    }
   ],
   "source": [
    "train.head(5)"
   ]
  },
  {
   "cell_type": "code",
   "execution_count": 80,
   "metadata": {},
   "outputs": [
    {
     "name": "stdout",
     "output_type": "stream",
     "text": [
      "without any optimisation\n",
      "xgb_train : 1.0\n",
      "xgb_test : 0.9966263147449891\n"
     ]
    }
   ],
   "source": [
    "num_classes = len(train_label.unique())\n",
    "xgbc = xgb.XGBClassifier(objective='binary:logistic',eval_metric = 'logloss')\n",
    "xgbc.fit(train, train_label)\n",
    "\n",
    "xgb_train = xgbc.score(train,train_label)\n",
    "xgb_test = xgbc.score(test, test_label)\n",
    "\n",
    "print(\"without any optimisation\")\n",
    "print(f\"xgb_train : {xgb_train}\")\n",
    "print(f\"xgb_test : {xgb_test}\")"
   ]
  },
  {
   "cell_type": "markdown",
   "metadata": {},
   "source": [
    "<h2> Tuning with Optuna</h2>"
   ]
  },
  {
   "cell_type": "code",
   "execution_count": 81,
   "metadata": {},
   "outputs": [],
   "source": [
    "import optuna\n",
    "from optuna import study\n",
    "import json\n",
    "\n"
   ]
  },
  {
   "cell_type": "code",
   "execution_count": 90,
   "metadata": {},
   "outputs": [
    {
     "name": "stderr",
     "output_type": "stream",
     "text": [
      "[I 2025-03-26 17:03:13,397] A new study created in memory with name: no-name-7432136b-1bf8-4ebb-b66d-e8a298b7ba73\n",
      "[I 2025-03-26 17:03:13,643] Trial 0 finished with value: 0.9944433419329232 and parameters: {'n_estimators': 200, 'learning_rate': 0.14499874833396048, 'max_depth': 10, 'min_child_weight': 4, 'subsample': 0.8471980123207233, 'colsample_bytree': 0.5247702071613713, 'reg_alpha': 5.142322372558907, 'reg_lambda': 2.661140500467295}. Best is trial 0 with value: 0.9944433419329232.\n",
      "[I 2025-03-26 17:03:13,800] Trial 1 finished with value: 0.9944433419329232 and parameters: {'n_estimators': 150, 'learning_rate': 0.17670622217915613, 'max_depth': 4, 'min_child_weight': 8, 'subsample': 0.8547057872236055, 'colsample_bytree': 0.8521050496153545, 'reg_alpha': 7.2346336106560205, 'reg_lambda': 5.848922632844548}. Best is trial 0 with value: 0.9944433419329232.\n",
      "[I 2025-03-26 17:03:14,303] Trial 2 finished with value: 0.9946417940067473 and parameters: {'n_estimators': 950, 'learning_rate': 0.2064043099687292, 'max_depth': 10, 'min_child_weight': 8, 'subsample': 0.5686252248971608, 'colsample_bytree': 0.9408842047764432, 'reg_alpha': 3.9992036808097344, 'reg_lambda': 6.86920721793233}. Best is trial 2 with value: 0.9946417940067473.\n",
      "[I 2025-03-26 17:03:14,504] Trial 3 finished with value: 0.9948402460805715 and parameters: {'n_estimators': 150, 'learning_rate': 0.05772457637795381, 'max_depth': 7, 'min_child_weight': 3, 'subsample': 0.6879219024813724, 'colsample_bytree': 0.6279845333692406, 'reg_alpha': 1.6584347497838958, 'reg_lambda': 0.06608436265223339}. Best is trial 3 with value: 0.9948402460805715.\n",
      "[I 2025-03-26 17:03:15,001] Trial 4 finished with value: 0.9946417940067473 and parameters: {'n_estimators': 750, 'learning_rate': 0.18317729665654817, 'max_depth': 7, 'min_child_weight': 2, 'subsample': 0.8198385840664196, 'colsample_bytree': 0.7775037706384094, 'reg_alpha': 4.8264826322563845, 'reg_lambda': 4.135257867714882}. Best is trial 3 with value: 0.9948402460805715.\n",
      "[I 2025-03-26 17:03:15,748] Trial 5 finished with value: 0.9932526294899782 and parameters: {'n_estimators': 950, 'learning_rate': 0.1013288229140028, 'max_depth': 5, 'min_child_weight': 8, 'subsample': 0.6168689775906524, 'colsample_bytree': 0.5636269062288772, 'reg_alpha': 9.739534397380195, 'reg_lambda': 7.367154966053366}. Best is trial 3 with value: 0.9948402460805715.\n",
      "[I 2025-03-26 17:03:15,899] Trial 6 finished with value: 0.9938479857114507 and parameters: {'n_estimators': 150, 'learning_rate': 0.2879158293778444, 'max_depth': 3, 'min_child_weight': 10, 'subsample': 0.6047763737705885, 'colsample_bytree': 0.5752752607424534, 'reg_alpha': 1.9105618964969984, 'reg_lambda': 9.294596734640319}. Best is trial 3 with value: 0.9948402460805715.\n",
      "[I 2025-03-26 17:03:16,310] Trial 7 finished with value: 0.9944433419329232 and parameters: {'n_estimators': 900, 'learning_rate': 0.17975527046647294, 'max_depth': 6, 'min_child_weight': 3, 'subsample': 0.7242803577363568, 'colsample_bytree': 0.7963083134570932, 'reg_alpha': 4.010599024135836, 'reg_lambda': 0.2816609345204979}. Best is trial 3 with value: 0.9948402460805715.\n",
      "[I 2025-03-26 17:03:17,171] Trial 8 finished with value: 0.9928557253423298 and parameters: {'n_estimators': 750, 'learning_rate': 0.01166382437263708, 'max_depth': 7, 'min_child_weight': 7, 'subsample': 0.793971360982657, 'colsample_bytree': 0.6440811300671829, 'reg_alpha': 8.202324191658327, 'reg_lambda': 6.177245596957508}. Best is trial 3 with value: 0.9948402460805715.\n",
      "[I 2025-03-26 17:03:17,610] Trial 9 finished with value: 0.9934510815638024 and parameters: {'n_estimators': 450, 'learning_rate': 0.08830788143512043, 'max_depth': 3, 'min_child_weight': 7, 'subsample': 0.5316510135277615, 'colsample_bytree': 0.9881167405829112, 'reg_alpha': 8.351192497217912, 'reg_lambda': 9.54533270361049}. Best is trial 3 with value: 0.9948402460805715.\n",
      "[I 2025-03-26 17:03:18,198] Trial 10 finished with value: 0.9954356023020441 and parameters: {'n_estimators': 400, 'learning_rate': 0.027220466022036326, 'max_depth': 8, 'min_child_weight': 1, 'subsample': 0.987029078743942, 'colsample_bytree': 0.6802508402329781, 'reg_alpha': 0.12733058583604606, 'reg_lambda': 0.9237532379681918}. Best is trial 10 with value: 0.9954356023020441.\n",
      "[I 2025-03-26 17:03:18,667] Trial 11 finished with value: 0.9956340543758683 and parameters: {'n_estimators': 400, 'learning_rate': 0.0332530293643473, 'max_depth': 8, 'min_child_weight': 1, 'subsample': 0.9683292484556811, 'colsample_bytree': 0.6740166745761794, 'reg_alpha': 0.41270556463560176, 'reg_lambda': 0.2921992917197971}. Best is trial 11 with value: 0.9956340543758683.\n",
      "[I 2025-03-26 17:03:19,302] Trial 12 finished with value: 0.9948402460805715 and parameters: {'n_estimators': 400, 'learning_rate': 0.023034683335457308, 'max_depth': 9, 'min_child_weight': 1, 'subsample': 0.9422892332947719, 'colsample_bytree': 0.6978369665973284, 'reg_alpha': 0.39403036041721673, 'reg_lambda': 2.420627247078394}. Best is trial 11 with value: 0.9956340543758683.\n",
      "[I 2025-03-26 17:03:19,940] Trial 13 finished with value: 0.9954356023020441 and parameters: {'n_estimators': 400, 'learning_rate': 0.02711910902127973, 'max_depth': 8, 'min_child_weight': 1, 'subsample': 0.9924381247917341, 'colsample_bytree': 0.7072535369737192, 'reg_alpha': 0.2500990857065825, 'reg_lambda': 2.0818135534061004}. Best is trial 11 with value: 0.9956340543758683.\n",
      "[I 2025-03-26 17:03:20,714] Trial 14 finished with value: 0.9946417940067473 and parameters: {'n_estimators': 600, 'learning_rate': 0.02804132079883499, 'max_depth': 8, 'min_child_weight': 5, 'subsample': 0.9113048442737361, 'colsample_bytree': 0.662846706290244, 'reg_alpha': 2.1857655981448705, 'reg_lambda': 1.4402889130674266}. Best is trial 11 with value: 0.9956340543758683.\n"
     ]
    }
   ],
   "source": [
    "# Define Objective\n",
    "def objective(trial):\n",
    "    h_params = {\n",
    "        \"n_estimators\": trial.suggest_int(\"n_estimators\", 100, 1000, step=50),\n",
    "        \"learning_rate\": trial.suggest_float(\"learning_rate\", 0.01, 0.3, log=True),\n",
    "        \"max_depth\": trial.suggest_int(\"max_depth\", 3, 10),\n",
    "        \"min_child_weight\": trial.suggest_int(\"min_child_weight\", 1, 10),\n",
    "        \"subsample\": trial.suggest_float(\"subsample\", 0.5, 1.0),\n",
    "        \"colsample_bytree\": trial.suggest_float(\"colsample_bytree\", 0.5, 1.0),\n",
    "        \"reg_alpha\": trial.suggest_float(\"reg_alpha\", 0, 10),\n",
    "        \"reg_lambda\": trial.suggest_float(\"reg_lambda\", 0, 10),\n",
    "    }\n",
    "    xgbc = xgb.XGBClassifier(**h_params, objective=\"binary:logistic\", eval_metric=\"logloss\", early_stopping_rounds = 50)\n",
    "    xgbc.fit(train,train_label,eval_set=[(val,val_label)],verbose = False) \n",
    "\n",
    "    preds = xgbc.predict(test)\n",
    "    accuracy = accuracy_score(test_label,preds)\n",
    "\n",
    "    return accuracy\n",
    "\n",
    "\n",
    "# Create the study\n",
    "study = optuna.create_study(direction=\"maximize\")\n",
    "study.optimize(objective,n_trials=15)\n",
    "\n"
   ]
  },
  {
   "cell_type": "code",
   "execution_count": 91,
   "metadata": {},
   "outputs": [
    {
     "data": {
      "text/plain": [
       "{'n_estimators': 400,\n",
       " 'learning_rate': 0.0332530293643473,\n",
       " 'max_depth': 8,\n",
       " 'min_child_weight': 1,\n",
       " 'subsample': 0.9683292484556811,\n",
       " 'colsample_bytree': 0.6740166745761794,\n",
       " 'reg_alpha': 0.41270556463560176,\n",
       " 'reg_lambda': 0.2921992917197971}"
      ]
     },
     "execution_count": 91,
     "metadata": {},
     "output_type": "execute_result"
    }
   ],
   "source": [
    "study.best_params"
   ]
  },
  {
   "cell_type": "code",
   "execution_count": 93,
   "metadata": {},
   "outputs": [
    {
     "data": {
      "text/plain": [
       "0.9956340543758683"
      ]
     },
     "execution_count": 93,
     "metadata": {},
     "output_type": "execute_result"
    }
   ],
   "source": [
    "best_params = study.best_params\n",
    "study.best_value"
   ]
  },
  {
   "cell_type": "code",
   "execution_count": 94,
   "metadata": {},
   "outputs": [],
   "source": [
    "# Save best hyperparameters\n",
    "with open(r\"..\\API\\model\\Hyperparams\\Xgboost_hparam.json\", \"w\") as f:\n",
    "    json.dump(study.best_params, f)"
   ]
  }
 ],
 "metadata": {
  "kernelspec": {
   "display_name": "Python 3",
   "language": "python",
   "name": "python3"
  },
  "language_info": {
   "codemirror_mode": {
    "name": "ipython",
    "version": 3
   },
   "file_extension": ".py",
   "mimetype": "text/x-python",
   "name": "python",
   "nbconvert_exporter": "python",
   "pygments_lexer": "ipython3",
   "version": "3.13.2"
  }
 },
 "nbformat": 4,
 "nbformat_minor": 2
}
