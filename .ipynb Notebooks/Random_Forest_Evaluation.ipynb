{
 "cells": [
  {
   "cell_type": "code",
   "execution_count": 10,
   "metadata": {},
   "outputs": [],
   "source": [
    "import sys\n",
    "import os\n",
    "\n",
    "# Get the absolute path of the project root (assuming you run the notebook from /your_project/notebooks/)\n",
    "project_root = os.path.abspath(os.path.join(os.getcwd(), \"..\"))\n",
    "sys.path.append(project_root)\n",
    "\n",
    "# Now, import your module\n",
    "from API.model.random_forest_classifier import RandomForestClassifier"
   ]
  },
  {
   "cell_type": "code",
   "execution_count": 11,
   "metadata": {},
   "outputs": [
    {
     "data": {
      "text/html": [
       "<div>\n",
       "<style scoped>\n",
       "    .dataframe tbody tr th:only-of-type {\n",
       "        vertical-align: middle;\n",
       "    }\n",
       "\n",
       "    .dataframe tbody tr th {\n",
       "        vertical-align: top;\n",
       "    }\n",
       "\n",
       "    .dataframe thead th {\n",
       "        text-align: right;\n",
       "    }\n",
       "</style>\n",
       "<table border=\"1\" class=\"dataframe\">\n",
       "  <thead>\n",
       "    <tr style=\"text-align: right;\">\n",
       "      <th></th>\n",
       "      <th>service</th>\n",
       "      <th>flag</th>\n",
       "      <th>src_bytes</th>\n",
       "      <th>dst_bytes</th>\n",
       "      <th>same_srv_rate</th>\n",
       "      <th>diff_srv_rate</th>\n",
       "      <th>dst_host_srv_count</th>\n",
       "      <th>dst_host_same_srv_rate</th>\n",
       "      <th>dst_host_diff_srv_rate</th>\n",
       "      <th>dst_host_serror_rate</th>\n",
       "      <th>class</th>\n",
       "    </tr>\n",
       "  </thead>\n",
       "  <tbody>\n",
       "    <tr>\n",
       "      <th>0</th>\n",
       "      <td>-0.645371</td>\n",
       "      <td>0.753006</td>\n",
       "      <td>-0.009889</td>\n",
       "      <td>-0.039309</td>\n",
       "      <td>0.772093</td>\n",
       "      <td>-0.349275</td>\n",
       "      <td>-0.813968</td>\n",
       "      <td>-0.779141</td>\n",
       "      <td>-0.280668</td>\n",
       "      <td>-0.641791</td>\n",
       "      <td>1</td>\n",
       "    </tr>\n",
       "    <tr>\n",
       "      <th>1</th>\n",
       "      <td>0.768910</td>\n",
       "      <td>0.753006</td>\n",
       "      <td>-0.010032</td>\n",
       "      <td>-0.039309</td>\n",
       "      <td>-1.320540</td>\n",
       "      <td>0.490826</td>\n",
       "      <td>-1.030875</td>\n",
       "      <td>-1.157808</td>\n",
       "      <td>2.764349</td>\n",
       "      <td>-0.641791</td>\n",
       "      <td>1</td>\n",
       "    </tr>\n",
       "    <tr>\n",
       "      <th>2</th>\n",
       "      <td>1.090338</td>\n",
       "      <td>-0.739909</td>\n",
       "      <td>-0.010092</td>\n",
       "      <td>-0.039309</td>\n",
       "      <td>-1.388778</td>\n",
       "      <td>0.042772</td>\n",
       "      <td>-0.804931</td>\n",
       "      <td>-0.935063</td>\n",
       "      <td>-0.173825</td>\n",
       "      <td>1.603803</td>\n",
       "      <td>0</td>\n",
       "    </tr>\n",
       "    <tr>\n",
       "      <th>3</th>\n",
       "      <td>-0.452515</td>\n",
       "      <td>0.753006</td>\n",
       "      <td>-0.009996</td>\n",
       "      <td>0.052472</td>\n",
       "      <td>0.772093</td>\n",
       "      <td>-0.349275</td>\n",
       "      <td>1.264717</td>\n",
       "      <td>1.069642</td>\n",
       "      <td>-0.440932</td>\n",
       "      <td>-0.574424</td>\n",
       "      <td>1</td>\n",
       "    </tr>\n",
       "    <tr>\n",
       "      <th>4</th>\n",
       "      <td>-0.452515</td>\n",
       "      <td>0.753006</td>\n",
       "      <td>-0.010010</td>\n",
       "      <td>-0.034581</td>\n",
       "      <td>0.772093</td>\n",
       "      <td>-0.349275</td>\n",
       "      <td>1.264717</td>\n",
       "      <td>1.069642</td>\n",
       "      <td>-0.440932</td>\n",
       "      <td>-0.641791</td>\n",
       "      <td>1</td>\n",
       "    </tr>\n",
       "  </tbody>\n",
       "</table>\n",
       "</div>"
      ],
      "text/plain": [
       "    service      flag  src_bytes  dst_bytes  same_srv_rate  diff_srv_rate  \\\n",
       "0 -0.645371  0.753006  -0.009889  -0.039309       0.772093      -0.349275   \n",
       "1  0.768910  0.753006  -0.010032  -0.039309      -1.320540       0.490826   \n",
       "2  1.090338 -0.739909  -0.010092  -0.039309      -1.388778       0.042772   \n",
       "3 -0.452515  0.753006  -0.009996   0.052472       0.772093      -0.349275   \n",
       "4 -0.452515  0.753006  -0.010010  -0.034581       0.772093      -0.349275   \n",
       "\n",
       "   dst_host_srv_count  dst_host_same_srv_rate  dst_host_diff_srv_rate  \\\n",
       "0           -0.813968               -0.779141               -0.280668   \n",
       "1           -1.030875               -1.157808                2.764349   \n",
       "2           -0.804931               -0.935063               -0.173825   \n",
       "3            1.264717                1.069642               -0.440932   \n",
       "4            1.264717                1.069642               -0.440932   \n",
       "\n",
       "   dst_host_serror_rate  class  \n",
       "0             -0.641791      1  \n",
       "1             -0.641791      1  \n",
       "2              1.603803      0  \n",
       "3             -0.574424      1  \n",
       "4             -0.641791      1  "
      ]
     },
     "execution_count": 11,
     "metadata": {},
     "output_type": "execute_result"
    }
   ],
   "source": [
    "import numpy as np\n",
    "import pandas as pd\n",
    "\n",
    "df=pd.read_csv(r\"..\\API\\data\\processed\\train_data.csv\")\n",
    "df_test=pd.read_csv(r\"..\\API\\data\\processed\\test_data.csv\")\n",
    "df.head()"
   ]
  },
  {
   "cell_type": "code",
   "execution_count": 12,
   "metadata": {},
   "outputs": [
    {
     "data": {
      "text/plain": [
       "(25192, 11)"
      ]
     },
     "execution_count": 12,
     "metadata": {},
     "output_type": "execute_result"
    }
   ],
   "source": [
    "df.shape"
   ]
  },
  {
   "cell_type": "code",
   "execution_count": 13,
   "metadata": {},
   "outputs": [],
   "source": [
    "from sklearn.model_selection import train_test_split\n",
    "\n",
    "x_train,x_test,y_train,y_test= train_test_split(df.drop([\"class\"],axis=1),df['class'],test_size=0.2,random_state=42)"
   ]
  },
  {
   "cell_type": "code",
   "execution_count": 14,
   "metadata": {},
   "outputs": [],
   "source": [
    "classifier=RandomForestClassifier(n_learners=250,max_depth=10,min_samples_leaf=5,min_information_gain=0.01)"
   ]
  },
  {
   "cell_type": "code",
   "execution_count": 15,
   "metadata": {},
   "outputs": [],
   "source": [
    "classifier.train(np.array(x_train),np.array(y_train))"
   ]
  },
  {
   "cell_type": "code",
   "execution_count": 16,
   "metadata": {},
   "outputs": [],
   "source": [
    "y_pred=classifier.predict(np.array(x_test))"
   ]
  },
  {
   "cell_type": "code",
   "execution_count": 17,
   "metadata": {},
   "outputs": [
    {
     "name": "stdout",
     "output_type": "stream",
     "text": [
      "0.9948402460805715\n"
     ]
    }
   ],
   "source": [
    "from sklearn.metrics import accuracy_score\n",
    "print(accuracy_score(y_pred,y_test))"
   ]
  }
 ],
 "metadata": {
  "kernelspec": {
   "display_name": "base",
   "language": "python",
   "name": "python3"
  },
  "language_info": {
   "codemirror_mode": {
    "name": "ipython",
    "version": 3
   },
   "file_extension": ".py",
   "mimetype": "text/x-python",
   "name": "python",
   "nbconvert_exporter": "python",
   "pygments_lexer": "ipython3",
   "version": "3.12.3"
  }
 },
 "nbformat": 4,
 "nbformat_minor": 2
}
