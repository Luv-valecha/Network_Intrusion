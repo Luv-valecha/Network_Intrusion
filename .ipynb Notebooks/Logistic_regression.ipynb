{
 "cells": [
  {
   "cell_type": "code",
   "execution_count": 1,
   "metadata": {},
   "outputs": [],
   "source": [
    "import os\n",
    "import sys\n",
    "import json\n",
    "import numpy as np\n",
    "import pandas as pd\n",
    "from sklearn.metrics import accuracy_score, precision_score, recall_score, f1_score\n",
    "\n",
    "# Ensure the API folder is accessible for importing\n",
    "project_root = os.path.abspath(os.path.join(os.getcwd(), \"..\"))\n",
    "sys.path.append(project_root)\n",
    "\n",
    "from API.model.LogisticRegression import LogisticRegression\n"
   ]
  },
  {
   "cell_type": "code",
   "execution_count": 2,
   "metadata": {},
   "outputs": [],
   "source": [
    "# Load datasets\n",
    "train_path = r\"..\\API\\data\\processed\\train_data.csv\"\n",
    "test_path = r\"..\\API\\data\\processed\\test_data.csv\"\n",
    "\n",
    "train = pd.read_csv(train_path)\n",
    "test = pd.read_csv(test_path)\n",
    "\n",
    "# Split features and labels\n",
    "X_train = train.drop(columns=[\"class\"]).values\n",
    "y_train = train[\"class\"].values\n",
    "\n",
    "X_test = test.drop(columns=[\"class\"]).values\n",
    "y_test = test[\"class\"].values\n"
   ]
  },
  {
   "cell_type": "code",
   "execution_count": 3,
   "metadata": {},
   "outputs": [],
   "source": [
    "param_grid = {\n",
    "    \"C\": [0.01, 0.1, 1.0, 10.0, 100.0],\n",
    "    \"max_iter\": [100, 300, 500, 1000]\n",
    "}\n",
    "\n",
    "best_score = 0\n",
    "best_params = {}\n"
   ]
  },
  {
   "cell_type": "code",
   "execution_count": 11,
   "metadata": {},
   "outputs": [
    {
     "name": "stdout",
     "output_type": "stream",
     "text": [
      "Training with C=0.01, max_iter=100...\n",
      "Accuracy: 0.8855, Precision: 0.8855, Recall: 0.8855, F1: 0.8854\n",
      "\n",
      "Training with C=0.01, max_iter=300...\n",
      "Accuracy: 0.8855, Precision: 0.8855, Recall: 0.8855, F1: 0.8854\n",
      "\n",
      "Training with C=0.01, max_iter=500...\n",
      "Accuracy: 0.8855, Precision: 0.8855, Recall: 0.8855, F1: 0.8854\n",
      "\n",
      "Training with C=0.01, max_iter=1000...\n",
      "Accuracy: 0.8855, Precision: 0.8855, Recall: 0.8855, F1: 0.8854\n",
      "\n",
      "Training with C=0.1, max_iter=100...\n",
      "Accuracy: 0.8867, Precision: 0.8868, Recall: 0.8867, F1: 0.8866\n",
      "\n",
      "Training with C=0.1, max_iter=300...\n",
      "Accuracy: 0.8867, Precision: 0.8868, Recall: 0.8867, F1: 0.8866\n",
      "\n",
      "Training with C=0.1, max_iter=500...\n",
      "Accuracy: 0.8867, Precision: 0.8868, Recall: 0.8867, F1: 0.8866\n",
      "\n",
      "Training with C=0.1, max_iter=1000...\n",
      "Accuracy: 0.8867, Precision: 0.8868, Recall: 0.8867, F1: 0.8866\n",
      "\n",
      "Training with C=1.0, max_iter=100...\n",
      "Accuracy: 0.8871, Precision: 0.8872, Recall: 0.8871, F1: 0.8870\n",
      "\n",
      "Training with C=1.0, max_iter=300...\n",
      "Accuracy: 0.8871, Precision: 0.8872, Recall: 0.8871, F1: 0.8870\n",
      "\n",
      "Training with C=1.0, max_iter=500...\n",
      "Accuracy: 0.8871, Precision: 0.8872, Recall: 0.8871, F1: 0.8870\n",
      "\n",
      "Training with C=1.0, max_iter=1000...\n",
      "Accuracy: 0.8871, Precision: 0.8872, Recall: 0.8871, F1: 0.8870\n",
      "\n",
      "Training with C=10.0, max_iter=100...\n",
      "Accuracy: 0.8875, Precision: 0.8876, Recall: 0.8875, F1: 0.8873\n",
      "\n",
      "Training with C=10.0, max_iter=300...\n",
      "Accuracy: 0.8875, Precision: 0.8876, Recall: 0.8875, F1: 0.8873\n",
      "\n",
      "Training with C=10.0, max_iter=500...\n",
      "Accuracy: 0.8875, Precision: 0.8876, Recall: 0.8875, F1: 0.8873\n",
      "\n",
      "Training with C=10.0, max_iter=1000...\n",
      "Accuracy: 0.8875, Precision: 0.8876, Recall: 0.8875, F1: 0.8873\n",
      "\n",
      "Training with C=100.0, max_iter=100...\n",
      "Accuracy: 0.8875, Precision: 0.8876, Recall: 0.8875, F1: 0.8873\n",
      "\n",
      "Training with C=100.0, max_iter=300...\n",
      "Accuracy: 0.8875, Precision: 0.8876, Recall: 0.8875, F1: 0.8873\n",
      "\n",
      "Training with C=100.0, max_iter=500...\n",
      "Accuracy: 0.8875, Precision: 0.8876, Recall: 0.8875, F1: 0.8873\n",
      "\n",
      "Training with C=100.0, max_iter=1000...\n",
      "Accuracy: 0.8875, Precision: 0.8876, Recall: 0.8875, F1: 0.8873\n",
      "\n"
     ]
    }
   ],
   "source": [
    "for C_val in param_grid[\"C\"]:\n",
    "    for max_iter_val in param_grid[\"max_iter\"]:\n",
    "        print(f\"Training with C={C_val}, max_iter={max_iter_val}...\")\n",
    "\n",
    "        # Initialize model\n",
    "        model = LogisticRegression(C=C_val, max_iter=max_iter_val)\n",
    "        model.train(X_train, y_train)\n",
    "\n",
    "        # Predict\n",
    "        y_pred = model.predict(X_test)\n",
    "\n",
    "        # Evaluate\n",
    "        acc = accuracy_score(y_test, y_pred)\n",
    "        precision = precision_score(y_test, y_pred, average=\"weighted\")\n",
    "        recall = recall_score(y_test, y_pred, average=\"weighted\")\n",
    "        f1 = f1_score(y_test, y_pred, average=\"weighted\")\n",
    "\n",
    "        print(f\"Accuracy: {acc:.4f}, Precision: {precision:.4f}, Recall: {recall:.4f}, F1: {f1:.4f}\\n\")\n",
    "\n",
    "        if acc > best_score:\n",
    "            best_score = acc\n",
    "            best_params = {\"C\": C_val, \"max_iter\": max_iter_val}\n"
   ]
  },
  {
   "cell_type": "code",
   "execution_count": 12,
   "metadata": {},
   "outputs": [
    {
     "name": "stdout",
     "output_type": "stream",
     "text": [
      "Best hyperparameters saved to: ..\\API\\model\\Hyperparams\\logistic_regression_hparam.json\n",
      "Best Parameters: {'C': 10.0, 'max_iter': 100} | Accuracy: 0.8875\n"
     ]
    }
   ],
   "source": [
    "best_hparam_path = r\"..\\API\\model\\Hyperparams\\logistic_regression_hparam.json\"\n",
    "os.makedirs(os.path.dirname(best_hparam_path), exist_ok=True)\n",
    "\n",
    "with open(best_hparam_path, \"w\") as f:\n",
    "    json.dump(best_params, f, indent=4)\n",
    "\n",
    "print(f\"Best hyperparameters saved to: {best_hparam_path}\")\n",
    "print(f\"Best Parameters: {best_params} | Accuracy: {best_score:.4f}\")\n"
   ]
  },
  {
   "cell_type": "code",
   "execution_count": 9,
   "metadata": {},
   "outputs": [
    {
     "name": "stdout",
     "output_type": "stream",
     "text": [
      "Final Evaluation with Best Hyperparameters:\n",
      "Test Accuracy: 0.8871\n",
      "Precision: 0.8872\n",
      "Recall: 0.8871\n",
      "F1 Score: 0.8870\n",
      "\n",
      "Classification Report:\n",
      "               precision    recall  f1-score   support\n",
      "\n",
      "           0       0.89      0.86      0.88      2368\n",
      "           1       0.88      0.91      0.89      2671\n",
      "\n",
      "    accuracy                           0.89      5039\n",
      "   macro avg       0.89      0.89      0.89      5039\n",
      "weighted avg       0.89      0.89      0.89      5039\n",
      "\n",
      "Confusion Matrix:\n",
      " [[2046  322]\n",
      " [ 247 2424]]\n"
     ]
    }
   ],
   "source": [
    "# Re-import the model class to ensure latest version is used\n",
    "from API.model.LogisticRegression import LogisticRegression\n",
    "\n",
    "# Initialize the model (which now uses best hyperparameters from JSON)\n",
    "model = LogisticRegression()\n",
    "model.train(X_train, y_train)\n",
    "\n",
    "# Predictions\n",
    "y_pred = model.predict(X_test)\n",
    "\n",
    "# Evaluation metrics\n",
    "from sklearn.metrics import classification_report, confusion_matrix\n",
    "\n",
    "acc = accuracy_score(y_test, y_pred)\n",
    "precision = precision_score(y_test, y_pred, average=\"weighted\")\n",
    "recall = recall_score(y_test, y_pred, average=\"weighted\")\n",
    "f1 = f1_score(y_test, y_pred, average=\"weighted\")\n",
    "\n",
    "print(f\"Final Evaluation with Best Hyperparameters:\")\n",
    "print(f\"Test Accuracy: {acc:.4f}\")\n",
    "print(f\"Precision: {precision:.4f}\")\n",
    "print(f\"Recall: {recall:.4f}\")\n",
    "print(f\"F1 Score: {f1:.4f}\")\n",
    "print(\"\\nClassification Report:\\n\", classification_report(y_test, y_pred))\n",
    "print(\"Confusion Matrix:\\n\", confusion_matrix(y_test, y_pred))\n"
   ]
  }
 ],
 "metadata": {
  "kernelspec": {
   "display_name": "network_intrusion",
   "language": "python",
   "name": "python3"
  },
  "language_info": {
   "codemirror_mode": {
    "name": "ipython",
    "version": 3
   },
   "file_extension": ".py",
   "mimetype": "text/x-python",
   "name": "python",
   "nbconvert_exporter": "python",
   "pygments_lexer": "ipython3",
   "version": "3.13.2"
  }
 },
 "nbformat": 4,
 "nbformat_minor": 2
}
