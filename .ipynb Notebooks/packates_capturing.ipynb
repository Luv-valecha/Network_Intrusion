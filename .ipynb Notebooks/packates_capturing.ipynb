{
 "cells": [
  {
   "cell_type": "code",
   "execution_count": 3,
   "metadata": {},
   "outputs": [],
   "source": [
    "from scapy.all import *"
   ]
  },
  {
   "cell_type": "code",
   "execution_count": 4,
   "metadata": {},
   "outputs": [],
   "source": [
    "pckts = sniff(timeout = 5)"
   ]
  },
  {
   "cell_type": "code",
   "execution_count": 5,
   "metadata": {},
   "outputs": [
    {
     "name": "stdout",
     "output_type": "stream",
     "text": [
      "###[ Ethernet ]###\n",
      "  dst       = ff:ff:ff:ff:ff:ff\n",
      "  src       = 40:c2:ba:45:68:6e\n",
      "  type      = ARP\n",
      "###[ ARP ]###\n",
      "     hwtype    = Ethernet (10Mb)\n",
      "     ptype     = IPv4\n",
      "     hwlen     = 6\n",
      "     plen      = 4\n",
      "     op        = who-has\n",
      "     hwsrc     = 40:c2:ba:45:68:6e\n",
      "     psrc      = 10.23.36.106\n",
      "     hwdst     = 00:00:00:00:00:00\n",
      "     pdst      = 10.23.36.141\n",
      "###[ Padding ]###\n",
      "        load      = b'\\x00\\x00\\x00\\x00\\x00\\x00\\x00\\x00\\x00\\x00\\x00\\x00\\x00\\x00\\x00\\x00\\x00\\x00'\n",
      "\n"
     ]
    }
   ],
   "source": [
    "pckts[0].show()"
   ]
  },
  {
   "cell_type": "code",
   "execution_count": 6,
   "metadata": {},
   "outputs": [],
   "source": [
    "import pandas as pd"
   ]
  },
  {
   "cell_type": "code",
   "execution_count": 13,
   "metadata": {},
   "outputs": [
    {
     "data": {
      "text/plain": [
       "Index(['service', 'flag', 'src_bytes', 'dst_bytes', 'same_srv_rate',\n",
       "       'diff_srv_rate', 'dst_host_srv_count', 'dst_host_same_srv_rate',\n",
       "       'dst_host_diff_srv_rate', 'dst_host_srv_serror_rate', 'class'],\n",
       "      dtype='object')"
      ]
     },
     "execution_count": 13,
     "metadata": {},
     "output_type": "execute_result"
    }
   ],
   "source": [
    "path = r\"..\\API\\data\\processed\\Train_data.csv\"\n",
    "df = pd.read_csv(path)\n",
    "df.columns"
   ]
  },
  {
   "cell_type": "code",
   "execution_count": null,
   "metadata": {},
   "outputs": [],
   "source": [
    "from scapy.all import sniff, IP, TCP, UDP\n",
    "from collections import defaultdict\n",
    "import pandas as pd\n",
    "\n",
    "def capture_packet_features(duration=10):\n",
    "    packets = sniff(filter=\"ip\", timeout=duration, store=True)\n",
    "    \n",
    "    connection_stats = defaultdict(lambda: {'count': 0, 'same_srv': 0, 'diff_srv': 0})\n",
    "    host_stats = defaultdict(lambda: {'srv_count': 0, 'srv_serror_count': 0})\n",
    "    traffic_stats = defaultdict(lambda: {'src_bytes': 0})  # for reverse tracking\n",
    "\n",
    "    data = []\n",
    "\n",
    "    for pkt in packets:\n",
    "        if IP not in pkt:\n",
    "            continue\n",
    "\n",
    "        ip = pkt[IP]\n",
    "        src_ip, dst_ip = ip.src, ip.dst\n",
    "        proto = pkt.proto\n",
    "        src_bytes = len(ip.payload)\n",
    "        service = None\n",
    "        flag = None\n",
    "        serror = False\n",
    "\n",
    "        if TCP in pkt:\n",
    "            tcp = pkt[TCP]\n",
    "            service = tcp.dport\n",
    "            flag = str(tcp.flags)\n",
    "            if 'R' in flag:\n",
    "                serror = True\n",
    "\n",
    "        elif UDP in pkt:\n",
    "            udp = pkt[UDP]\n",
    "            service = udp.dport\n",
    "            flag = \"U\"\n",
    "        \n",
    "        else:\n",
    "            continue  # skip non-TCP/UDP\n",
    "\n",
    "        # Track forward and reverse traffic\n",
    "        conn_key = (src_ip, dst_ip)\n",
    "        reverse_key = (dst_ip, src_ip)\n",
    "        traffic_stats[conn_key]['src_bytes'] += src_bytes\n",
    "        dst_bytes = traffic_stats[reverse_key]['src_bytes']  # reverse flow\n",
    "\n",
    "        # Update connection stats\n",
    "        conn_service_key = (src_ip, dst_ip, service)\n",
    "        connection_stats[conn_service_key]['count'] += 1\n",
    "        host_stats[dst_ip]['srv_count'] += 1\n",
    "        if serror:\n",
    "            host_stats[dst_ip]['srv_serror_count'] += 1\n",
    "\n",
    "        # Calculate same_srv and diff_srv\n",
    "        same_srv = sum(1 for k in connection_stats if k[0] == src_ip and k[1] == dst_ip and k[2] == service)\n",
    "        diff_srv = sum(1 for k in connection_stats if k[0] == src_ip and k[1] == dst_ip and k[2] != service)\n",
    "\n",
    "        same_srv_rate = same_srv / max(1, connection_stats[conn_service_key]['count'])\n",
    "        diff_srv_rate = diff_srv / max(1, connection_stats[conn_service_key]['count'])\n",
    "\n",
    "        dst_host_srv_count = host_stats[dst_ip]['srv_count']\n",
    "        dst_host_srv_serror_rate = host_stats[dst_ip]['srv_serror_count'] / max(1, dst_host_srv_count)\n",
    "\n",
    "        features = {\n",
    "            'service': service,\n",
    "            'flag': flag,\n",
    "            'src_bytes': src_bytes,\n",
    "            'dst_bytes': dst_bytes,\n",
    "            'same_srv_rate': same_srv_rate,\n",
    "            'diff_srv_rate': diff_srv_rate,\n",
    "            'dst_host_srv_count': dst_host_srv_count,\n",
    "            'dst_host_same_srv_rate': same_srv_rate,  # approx\n",
    "            'dst_host_diff_srv_rate': diff_srv_rate,  # approx\n",
    "            'dst_host_srv_serror_rate': dst_host_srv_serror_rate,\n",
    "            # 'class': 'normal'  # placeholder\n",
    "        }\n",
    "\n",
    "        data.append(features)\n",
    "\n",
    "    return pd.DataFrame(data)\n"
   ]
  },
  {
   "cell_type": "code",
   "execution_count": 22,
   "metadata": {},
   "outputs": [
    {
     "name": "stdout",
     "output_type": "stream",
     "text": [
      "   service flag  src_bytes  dst_bytes  same_srv_rate  diff_srv_rate  \\\n",
      "0      443    A         20          0       1.000000            0.0   \n",
      "1      443    A         20          0       0.500000            0.0   \n",
      "2      443   PA        139          0       1.000000            0.0   \n",
      "3      443   PA        139          0       0.500000            0.0   \n",
      "4      443   PA       4226          0       0.333333            0.0   \n",
      "\n",
      "   dst_host_srv_count  dst_host_same_srv_rate  dst_host_diff_srv_rate  \\\n",
      "0                   1                1.000000                     0.0   \n",
      "1                   2                0.500000                     0.0   \n",
      "2                   1                1.000000                     0.0   \n",
      "3                   2                0.500000                     0.0   \n",
      "4                   3                0.333333                     0.0   \n",
      "\n",
      "   dst_host_srv_serror_rate   class  \n",
      "0                       0.0  normal  \n",
      "1                       0.0  normal  \n",
      "2                       0.0  normal  \n",
      "3                       0.0  normal  \n",
      "4                       0.0  normal  \n"
     ]
    }
   ],
   "source": [
    "df = capture_packet_features(5)  # Capture for 5 seconds\n",
    "print(df.head())"
   ]
  }
 ],
 "metadata": {
  "kernelspec": {
   "display_name": "Python 3",
   "language": "python",
   "name": "python3"
  },
  "language_info": {
   "codemirror_mode": {
    "name": "ipython",
    "version": 3
   },
   "file_extension": ".py",
   "mimetype": "text/x-python",
   "name": "python",
   "nbconvert_exporter": "python",
   "pygments_lexer": "ipython3",
   "version": "3.11.8"
  }
 },
 "nbformat": 4,
 "nbformat_minor": 2
}
