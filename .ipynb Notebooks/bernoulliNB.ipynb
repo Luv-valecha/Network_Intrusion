{
 "cells": [
  {
   "cell_type": "code",
   "execution_count": 3,
   "metadata": {},
   "outputs": [],
   "source": [
    "import numpy as np\n",
    "import sys\n",
    "import pandas as pd\n",
    "import os\n",
    "import matplotlib.pyplot as plt\n",
    "from sklearn.preprocessing import StandardScaler\n",
    "from sklearn.metrics import accuracy_score, classification_report, confusion_matrix\n",
    "from tqdm import tqdm\n",
    "import pickle, json\n",
    "from sklearn.preprocessing import LabelEncoder\n",
    "\n",
    "\n",
    "# Add the parent directory so that the 'scripts' folder is on the path\n",
    "sys.path.append(os.path.join(os.getcwd(), \"..\")) \n",
    "from API.model.BernoulliNB import BernoulliNB\n",
    "from API.scripts.evaluate import ModelEvaluator"
   ]
  },
  {
   "cell_type": "code",
   "execution_count": null,
   "metadata": {},
   "outputs": [
    {
     "name": "stdout",
     "output_type": "stream",
     "text": [
      "Converting features to binary format...\n"
     ]
    }
   ],
   "source": [
    "BASE_DIR = r\"C:\\Users\\Pratyush\\OneDrive\\Desktop\\ChampSim-master\\Network_Intrusion\\API\\data\\processed\"\n",
    "train_path = os.path.join(BASE_DIR, \"train_data.csv\")\n",
    "test_path = os.path.join(BASE_DIR, \"test_data.csv\") \n",
    "\n",
    "\n",
    "# Load the data\n",
    "train_data = pd.read_csv(train_path)\n",
    "test_data = pd.read_csv(test_path)\n",
    "    \n",
    "# Separate features and target using the approach you provided\n",
    "target_column = train_data.columns[-1]\n",
    "    \n",
    "X_train = train_data.drop(columns=[target_column]).values\n",
    "y_train = train_data[target_column].values\n",
    "    \n",
    "X_test = test_data.drop(columns=[target_column]).values\n",
    "y_test = test_data[target_column].values\n",
    "    \n",
    "    # If target is categorical, encode it\n",
    "if isinstance(y_train[0], (str, np.str_)):\n",
    "    print(\"Encoding categorical target variable...\")\n",
    "    label_encoder = LabelEncoder()\n",
    "    y_train = label_encoder.fit_transform(y_train)\n",
    "    y_test = label_encoder.transform(y_test)\n",
    "    print(f\"Classes: {label_encoder.classes_}\")\n",
    "    \n",
    "    # Convert numerical features to binary (Bernoulli NB works with binary features)\n",
    "    # This step depends on your specific dataset - adjust threshold as needed\n",
    "X_train_binary = (X_train > 0).astype(int)\n",
    "X_test_binary = (X_test > 0).astype(int)"
   ]
  },
  {
   "cell_type": "code",
   "execution_count": 5,
   "metadata": {},
   "outputs": [
    {
     "name": "stdout",
     "output_type": "stream",
     "text": [
      "Training accuracy: 0.8709\n",
      "Test accuracy: 0.8700\n"
     ]
    }
   ],
   "source": [
    "bnb = BernoulliNB(alpha=1.0)\n",
    "bnb.fit(X_train_binary, y_train)\n",
    "    \n",
    "# Evaluate the model\n",
    "train_accuracy = bnb.score(X_train_binary, y_train)\n",
    "test_accuracy = bnb.score(X_test_binary, y_test)\n",
    "    \n",
    "print(f\"Training accuracy: {train_accuracy:.4f}\")\n",
    "print(f\"Test accuracy: {test_accuracy:.4f}\")"
   ]
  },
  {
   "cell_type": "code",
   "execution_count": 8,
   "metadata": {},
   "outputs": [
    {
     "name": "stdout",
     "output_type": "stream",
     "text": [
      "Alpha: 0.01 \n",
      "Score: 0.8700 \n",
      "\n",
      "Alpha: 0.1 \n",
      "Score: 0.8700 \n",
      "\n",
      "Alpha: 1.0 \n",
      "Score: 0.8700 \n",
      "\n",
      "Alpha: 10.0 \n",
      "Score: 0.8700 \n",
      "\n",
      "Best score: 0.8700 \n",
      "Best param: {'alpha': 0.01}\n"
     ]
    }
   ],
   "source": [
    "param_grid = {\n",
    "    'alpha': [0.01, 0.1, 1.0, 10.0]  # Different alpha values for Laplace smoothing\n",
    "}\n",
    "\n",
    "best_score = 0\n",
    "best_param = None\n",
    "\n",
    "# Grid search for best alpha\n",
    "for alpha in param_grid['alpha']:\n",
    "    bnb = BernoulliNB(alpha=alpha)\n",
    "    bnb.fit(X_train_binary, y_train)  # Train the model\n",
    "    y_pred = bnb.predict(X_test_binary)  # Predict on test data\n",
    "    test_acc = accuracy_score(y_test, y_pred)  # Compute accuracy\n",
    "\n",
    "    print(f'Alpha: {alpha} \\nScore: {test_acc:.4f} \\n')\n",
    "\n",
    "    if test_acc > best_score:\n",
    "        best_score = test_acc\n",
    "        best_param = {'alpha': alpha}\n",
    "\n",
    "print(f'Best score: {best_score:.4f} \\nBest param: {best_param}')"
   ]
  }
 ],
 "metadata": {
  "kernelspec": {
   "display_name": "Python 3",
   "language": "python",
   "name": "python3"
  },
  "language_info": {
   "codemirror_mode": {
    "name": "ipython",
    "version": 3
   },
   "file_extension": ".py",
   "mimetype": "text/x-python",
   "name": "python",
   "nbconvert_exporter": "python",
   "pygments_lexer": "ipython3",
   "version": "3.12.1"
  }
 },
 "nbformat": 4,
 "nbformat_minor": 2
}
