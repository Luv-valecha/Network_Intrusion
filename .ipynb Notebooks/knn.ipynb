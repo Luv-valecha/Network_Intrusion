{
 "cells": [
  {
   "cell_type": "code",
   "execution_count": 3,
   "metadata": {},
   "outputs": [],
   "source": [
    "import numpy as np\n",
    "import pandas as pd\n",
    "import matplotlib.pyplot as plt\n",
    "from sklearn.model_selection import KFold\n",
    "from sklearn.metrics import pairwise_distances  # This will make distance calculations very fast!\n"
   ]
  },
  {
   "cell_type": "code",
   "execution_count": 4,
   "metadata": {},
   "outputs": [
    {
     "name": "stdout",
     "output_type": "stream",
     "text": [
      "Data shape: (25192, 11)\n"
     ]
    },
    {
     "data": {
      "text/html": [
       "<div>\n",
       "<style scoped>\n",
       "    .dataframe tbody tr th:only-of-type {\n",
       "        vertical-align: middle;\n",
       "    }\n",
       "\n",
       "    .dataframe tbody tr th {\n",
       "        vertical-align: top;\n",
       "    }\n",
       "\n",
       "    .dataframe thead th {\n",
       "        text-align: right;\n",
       "    }\n",
       "</style>\n",
       "<table border=\"1\" class=\"dataframe\">\n",
       "  <thead>\n",
       "    <tr style=\"text-align: right;\">\n",
       "      <th></th>\n",
       "      <th>service</th>\n",
       "      <th>flag</th>\n",
       "      <th>src_bytes</th>\n",
       "      <th>dst_bytes</th>\n",
       "      <th>same_srv_rate</th>\n",
       "      <th>diff_srv_rate</th>\n",
       "      <th>dst_host_srv_count</th>\n",
       "      <th>dst_host_same_srv_rate</th>\n",
       "      <th>dst_host_diff_srv_rate</th>\n",
       "      <th>dst_host_serror_rate</th>\n",
       "      <th>class</th>\n",
       "    </tr>\n",
       "  </thead>\n",
       "  <tbody>\n",
       "    <tr>\n",
       "      <th>0</th>\n",
       "      <td>-0.645371</td>\n",
       "      <td>0.753006</td>\n",
       "      <td>-0.009889</td>\n",
       "      <td>-0.039309</td>\n",
       "      <td>0.772093</td>\n",
       "      <td>-0.349275</td>\n",
       "      <td>-0.813968</td>\n",
       "      <td>-0.779141</td>\n",
       "      <td>-0.280668</td>\n",
       "      <td>-0.641791</td>\n",
       "      <td>1</td>\n",
       "    </tr>\n",
       "    <tr>\n",
       "      <th>1</th>\n",
       "      <td>0.768910</td>\n",
       "      <td>0.753006</td>\n",
       "      <td>-0.010032</td>\n",
       "      <td>-0.039309</td>\n",
       "      <td>-1.320540</td>\n",
       "      <td>0.490826</td>\n",
       "      <td>-1.030875</td>\n",
       "      <td>-1.157808</td>\n",
       "      <td>2.764349</td>\n",
       "      <td>-0.641791</td>\n",
       "      <td>1</td>\n",
       "    </tr>\n",
       "    <tr>\n",
       "      <th>2</th>\n",
       "      <td>1.090338</td>\n",
       "      <td>-0.739909</td>\n",
       "      <td>-0.010092</td>\n",
       "      <td>-0.039309</td>\n",
       "      <td>-1.388778</td>\n",
       "      <td>0.042772</td>\n",
       "      <td>-0.804931</td>\n",
       "      <td>-0.935063</td>\n",
       "      <td>-0.173825</td>\n",
       "      <td>1.603803</td>\n",
       "      <td>0</td>\n",
       "    </tr>\n",
       "    <tr>\n",
       "      <th>3</th>\n",
       "      <td>-0.452515</td>\n",
       "      <td>0.753006</td>\n",
       "      <td>-0.009996</td>\n",
       "      <td>0.052472</td>\n",
       "      <td>0.772093</td>\n",
       "      <td>-0.349275</td>\n",
       "      <td>1.264717</td>\n",
       "      <td>1.069642</td>\n",
       "      <td>-0.440932</td>\n",
       "      <td>-0.574424</td>\n",
       "      <td>1</td>\n",
       "    </tr>\n",
       "    <tr>\n",
       "      <th>4</th>\n",
       "      <td>-0.452515</td>\n",
       "      <td>0.753006</td>\n",
       "      <td>-0.010010</td>\n",
       "      <td>-0.034581</td>\n",
       "      <td>0.772093</td>\n",
       "      <td>-0.349275</td>\n",
       "      <td>1.264717</td>\n",
       "      <td>1.069642</td>\n",
       "      <td>-0.440932</td>\n",
       "      <td>-0.641791</td>\n",
       "      <td>1</td>\n",
       "    </tr>\n",
       "  </tbody>\n",
       "</table>\n",
       "</div>"
      ],
      "text/plain": [
       "    service      flag  src_bytes  dst_bytes  same_srv_rate  diff_srv_rate  \\\n",
       "0 -0.645371  0.753006  -0.009889  -0.039309       0.772093      -0.349275   \n",
       "1  0.768910  0.753006  -0.010032  -0.039309      -1.320540       0.490826   \n",
       "2  1.090338 -0.739909  -0.010092  -0.039309      -1.388778       0.042772   \n",
       "3 -0.452515  0.753006  -0.009996   0.052472       0.772093      -0.349275   \n",
       "4 -0.452515  0.753006  -0.010010  -0.034581       0.772093      -0.349275   \n",
       "\n",
       "   dst_host_srv_count  dst_host_same_srv_rate  dst_host_diff_srv_rate  \\\n",
       "0           -0.813968               -0.779141               -0.280668   \n",
       "1           -1.030875               -1.157808                2.764349   \n",
       "2           -0.804931               -0.935063               -0.173825   \n",
       "3            1.264717                1.069642               -0.440932   \n",
       "4            1.264717                1.069642               -0.440932   \n",
       "\n",
       "   dst_host_serror_rate  class  \n",
       "0             -0.641791      1  \n",
       "1             -0.641791      1  \n",
       "2              1.603803      0  \n",
       "3             -0.574424      1  \n",
       "4             -0.641791      1  "
      ]
     },
     "execution_count": 4,
     "metadata": {},
     "output_type": "execute_result"
    }
   ],
   "source": [
    "# Load the preprocessed dataset \n",
    "data = pd.read_csv(r\"..\\API\\data\\processed\\train_data.csv\")\n",
    "\n",
    "# Separate features and labels\n",
    "X = data.iloc[:, :-1].values\n",
    "y = data.iloc[:, -1].values\n",
    "\n",
    "print(\"Data shape:\", data.shape)\n",
    "data.head()\n"
   ]
  },
  {
   "cell_type": "code",
   "execution_count": 5,
   "metadata": {},
   "outputs": [],
   "source": [
    "# Define the KNN Classifier class with distance metrics and prediction methods\n",
    "class KNNClassifier:\n",
    "    def __init__(self, k=3, distance_metric=\"euclidean\"):\n",
    "        # Store k and distance metric choice\n",
    "        self.k = k\n",
    "        self.distance_metric = distance_metric\n",
    "\n",
    "    def train(self, X_train, y_train):\n",
    "        # Store training data for distance calculations\n",
    "        self.X_train = X_train\n",
    "        self.y_train = y_train\n",
    "\n",
    "    def euclidean_distance(self, x1, x2):\n",
    "        # Calculate Euclidean distance between two points\n",
    "        return np.sqrt(np.sum((x1 - x2) ** 2))\n",
    "\n",
    "    def manhattan_distance(self, x1, x2):\n",
    "        # Calculate Manhattan distance between two points\n",
    "        return np.sum(np.abs(x1 - x2))\n",
    "\n",
    "    def compute_distance(self, x1, x2):\n",
    "        # Dynamically choose distance metric based on user choice\n",
    "        if self.distance_metric == \"euclidean\":\n",
    "            return self.euclidean_distance(x1, x2)\n",
    "        elif self.distance_metric == \"manhattan\":\n",
    "            return self.manhattan_distance(x1, x2)\n",
    "        else:\n",
    "            raise ValueError(\"Unsupported distance metric.\")\n",
    "\n",
    "    def predict_one(self, test_point):\n",
    "        # Calculate distance from this test point to every training point\n",
    "        distances = []\n",
    "        for i in range(len(self.X_train)):\n",
    "            dist = self.compute_distance(test_point, self.X_train[i])\n",
    "            distances.append((dist, self.y_train[i]))\n",
    "\n",
    "        # Sort distances and pick top k nearest points\n",
    "        distances.sort(key=lambda x: x[0])\n",
    "        top_k = distances[:self.k]\n",
    "\n",
    "        # Perform majority voting\n",
    "        labels = [label for _, label in top_k]\n",
    "        prediction = max(set(labels), key=labels.count)\n",
    "        return prediction\n",
    "\n",
    "    def predict(self, X_test):\n",
    "        # Predict class for each test point\n",
    "        predictions = []\n",
    "        for point in X_test:\n",
    "            pred = self.predict_one(point)\n",
    "            predictions.append(pred)\n",
    "        return np.array(predictions)\n"
   ]
  },
  {
   "cell_type": "code",
   "execution_count": 6,
   "metadata": {},
   "outputs": [],
   "source": [
    "class FastKNNClassifier:\n",
    "    def __init__(self, k=3, distance_metric=\"euclidean\"):\n",
    "        self.k = k\n",
    "        self.distance_metric = distance_metric\n",
    "\n",
    "    def train(self, X_train, y_train):\n",
    "        # Store training data\n",
    "        self.X_train = X_train\n",
    "        self.y_train = y_train\n",
    "\n",
    "    def predict(self, X_test):\n",
    "        # Calculate all distances in one go using sklearn's pairwise_distances\n",
    "        distances = pairwise_distances(X_test, self.X_train, metric=self.distance_metric)\n",
    "\n",
    "        predictions = []\n",
    "        # For each test point\n",
    "        for dist in distances:\n",
    "            # Get indices of k nearest neighbors\n",
    "            nearest_indices = np.argsort(dist)[:self.k]\n",
    "            nearest_labels = self.y_train[nearest_indices]\n",
    "            # Majority vote\n",
    "            prediction = np.bincount(nearest_labels.astype(int)).argmax()\n",
    "            predictions.append(prediction)\n",
    "\n",
    "        return np.array(predictions)\n"
   ]
  },
  {
   "cell_type": "code",
   "execution_count": 7,
   "metadata": {},
   "outputs": [
    {
     "name": "stdout",
     "output_type": "stream",
     "text": [
      "K = 1, Average 5-Fold Accuracy = 0.9856\n",
      "K = 3, Average 5-Fold Accuracy = 0.9834\n",
      "K = 5, Average 5-Fold Accuracy = 0.9817\n",
      "K = 7, Average 5-Fold Accuracy = 0.9802\n",
      "K = 9, Average 5-Fold Accuracy = 0.9787\n",
      "K = 11, Average 5-Fold Accuracy = 0.9775\n",
      "K = 13, Average 5-Fold Accuracy = 0.9763\n",
      "K = 15, Average 5-Fold Accuracy = 0.9755\n",
      "K = 17, Average 5-Fold Accuracy = 0.9741\n",
      "K = 19, Average 5-Fold Accuracy = 0.9727\n",
      "K = 21, Average 5-Fold Accuracy = 0.9716\n",
      "K = 23, Average 5-Fold Accuracy = 0.9705\n",
      "K = 25, Average 5-Fold Accuracy = 0.9693\n"
     ]
    }
   ],
   "source": [
    "# Define a range of k values to test\n",
    "k_values = list(range(1, 26, 2))\n",
    "kf = KFold(n_splits=5, shuffle=True, random_state=42)\n",
    "\n",
    "k_accuracies = []\n",
    "\n",
    "# Loop through k values\n",
    "for k in k_values:\n",
    "    fold_accuracies = []\n",
    "    \n",
    "    for train_index, val_index in kf.split(X):\n",
    "        X_train, X_val = X[train_index], X[val_index]\n",
    "        y_train, y_val = y[train_index], y[val_index]\n",
    "\n",
    "        # Train Fast KNN\n",
    "        knn = FastKNNClassifier(k=k, distance_metric=\"euclidean\")\n",
    "        knn.train(X_train, y_train)\n",
    "\n",
    "        # Predict and evaluate\n",
    "        preds = knn.predict(X_val)\n",
    "        accuracy = np.mean(preds == y_val)\n",
    "        fold_accuracies.append(accuracy)\n",
    "\n",
    "    avg_accuracy = np.mean(fold_accuracies)\n",
    "    k_accuracies.append(avg_accuracy)\n",
    "\n",
    "    print(f\"K = {k}, Average 5-Fold Accuracy = {avg_accuracy:.4f}\")\n"
   ]
  },
  {
   "cell_type": "code",
   "execution_count": 9,
   "metadata": {},
   "outputs": [
    {
     "name": "stdout",
     "output_type": "stream",
     "text": [
      "Evaluating for distance metric: euclidean\n",
      "K = 1, euclidean distance, Average 5-Fold Accuracy = 0.9856\n",
      "K = 3, euclidean distance, Average 5-Fold Accuracy = 0.9834\n",
      "K = 5, euclidean distance, Average 5-Fold Accuracy = 0.9817\n",
      "K = 7, euclidean distance, Average 5-Fold Accuracy = 0.9802\n",
      "K = 9, euclidean distance, Average 5-Fold Accuracy = 0.9787\n",
      "\n",
      "\n",
      "Evaluating for distance metric: manhattan\n",
      "K = 1, manhattan distance, Average 5-Fold Accuracy = 0.9866\n",
      "K = 3, manhattan distance, Average 5-Fold Accuracy = 0.9852\n",
      "K = 5, manhattan distance, Average 5-Fold Accuracy = 0.9840\n",
      "K = 7, manhattan distance, Average 5-Fold Accuracy = 0.9834\n",
      "K = 9, manhattan distance, Average 5-Fold Accuracy = 0.9825\n",
      "\n",
      "\n"
     ]
    }
   ],
   "source": [
    "from sklearn.model_selection import KFold\n",
    "from sklearn.metrics import accuracy_score\n",
    "from sklearn.metrics import pairwise_distances\n",
    "import numpy as np\n",
    "\n",
    "def knn_predict(X_train, y_train, X_val, k=5, metric='euclidean'):\n",
    "    distances = pairwise_distances(X_val, X_train, metric=metric)\n",
    "    predictions = []\n",
    "    for dist_row in distances:\n",
    "        nearest_indices = np.argsort(dist_row)[:k]\n",
    "        nearest_labels = y_train[nearest_indices]\n",
    "        prediction = np.bincount(nearest_labels.astype(int)).argmax()\n",
    "        predictions.append(prediction)\n",
    "    return np.array(predictions)\n",
    "\n",
    "def evaluate_knn_with_metric(X, y, k_values, metric):\n",
    "    print(f\"Evaluating for distance metric: {metric}\")\n",
    "    kf = KFold(n_splits=5, shuffle=True, random_state=42)\n",
    "\n",
    "    for k in k_values:\n",
    "        fold_accuracies = []\n",
    "        for train_index, val_index in kf.split(X):\n",
    "            X_train, X_val = X[train_index], X[val_index]\n",
    "            y_train, y_val = y[train_index], y[val_index]\n",
    "            \n",
    "            preds = knn_predict(X_train, y_train, X_val, k=k, metric=metric)\n",
    "            acc = accuracy_score(y_val, preds)\n",
    "            fold_accuracies.append(acc)\n",
    "        \n",
    "        print(f\"K = {k}, {metric} distance, Average 5-Fold Accuracy = {np.mean(fold_accuracies):.4f}\")\n",
    "    print(\"\\n\")\n",
    "\n",
    "# Example call (after loading your dataset):\n",
    "k_values = [1, 3, 5, 7, 9]\n",
    "evaluate_knn_with_metric(X, y, k_values, metric='euclidean')\n",
    "evaluate_knn_with_metric(X, y, k_values, metric='manhattan')\n"
   ]
  },
  {
   "cell_type": "code",
   "execution_count": null,
   "metadata": {},
   "outputs": [
    {
     "name": "stdout",
     "output_type": "stream",
     "text": [
      "✅ Module imported successfully!\n"
     ]
    }
   ],
   "source": [
    "import sys\n",
    "import os\n",
    "\n",
    "# Get the absolute path of the project root\n",
    "project_root = os.path.abspath(os.path.join(os.getcwd(), \"..\"))\n",
    "sys.path.append(project_root)\n",
    "\n",
    "# Now, import your module\n",
    "from API.model.knn_classifier import KNNClassifier  # Import your KNN classifier\n",
    "\n",
    "print(\"Module imported successfully!\")\n",
    "\n"
   ]
  },
  {
   "cell_type": "code",
   "execution_count": null,
   "metadata": {},
   "outputs": [
    {
     "name": "stdout",
     "output_type": "stream",
     "text": [
      "✅ kNN Model Loaded Successfully!\n"
     ]
    }
   ],
   "source": [
    "import joblib\n",
    "import os\n",
    "\n",
    "model_path = os.path.join(\"..\", \"API\", \"model\", \"saved_models\", \"knn_model.pkl\")\n",
    "\n",
    "# Try loading the model with joblib\n",
    "try:\n",
    "    knn_model = joblib.load(model_path)\n",
    "    print(\"kNN Model Loaded Successfully!\")\n",
    "except Exception as e:\n",
    "    print(\"Error:\", e)\n"
   ]
  },
  {
   "cell_type": "code",
   "execution_count": null,
   "metadata": {},
   "outputs": [
    {
     "name": "stdout",
     "output_type": "stream",
     "text": [
      "✅ Test Data Loaded Successfully!\n",
      "   service  flag  src_bytes  dst_bytes  logged_in  same_srv_rate  \\\n",
      "0       11     9         44        110          0           1.00   \n",
      "1       22     9        176       5163          1           1.00   \n",
      "2       22     9        223        338          1           1.00   \n",
      "3       22     9        241        934          1           1.00   \n",
      "4       65     5          0          0          0           0.03   \n",
      "\n",
      "   diff_srv_rate  dst_host_srv_count  dst_host_same_srv_rate  \\\n",
      "0           0.00                 255                    1.00   \n",
      "1           0.00                 245                    0.96   \n",
      "2           0.00                 255                    1.00   \n",
      "3           0.00                 255                    1.00   \n",
      "4           0.05                   7                    0.03   \n",
      "\n",
      "   dst_host_diff_srv_rate  class  \n",
      "0                    0.00      1  \n",
      "1                    0.01      1  \n",
      "2                    0.00      1  \n",
      "3                    0.00      1  \n",
      "4                    0.05      0  \n"
     ]
    }
   ],
   "source": [
    "# Load the test dataset\n",
    "test_data_path = os.path.join(\"..\", \"API\", \"data\", \"processed\", \"test_data.csv\")\n",
    "df_test = pd.read_csv(test_data_path)\n",
    "\n",
    "print(\"Test Data Loaded Successfully!\")\n",
    "print(df_test.head())  # Check the first few rows"
   ]
  },
  {
   "cell_type": "code",
   "execution_count": null,
   "metadata": {},
   "outputs": [
    {
     "name": "stdout",
     "output_type": "stream",
     "text": [
      "✅ Test Data Ready! Features Shape: (5039, 10) Labels Shape: (5039,)\n"
     ]
    }
   ],
   "source": [
    "X_test = df_test.iloc[:, :-1]  # All columns except last\n",
    "y_test = df_test.iloc[:, -1]   # Last column (assumed to be labels)\n",
    "\n",
    "print(\"✅ Test Data Ready! Features Shape:\", X_test.shape, \"Labels Shape:\", y_test.shape)\n"
   ]
  },
  {
   "cell_type": "code",
   "execution_count": 49,
   "metadata": {},
   "outputs": [
    {
     "name": "stdout",
     "output_type": "stream",
     "text": [
      "✅ Accuracy: 0.9936\n",
      "\n",
      "🔹 Classification Report:\n",
      "              precision    recall  f1-score   support\n",
      "\n",
      "           0       0.99      1.00      0.99      2368\n",
      "           1       1.00      0.99      0.99      2671\n",
      "\n",
      "    accuracy                           0.99      5039\n",
      "   macro avg       0.99      0.99      0.99      5039\n",
      "weighted avg       0.99      0.99      0.99      5039\n",
      "\n",
      "\n",
      "🔹 Confusion Matrix:\n",
      "[[2359    9]\n",
      " [  23 2648]]\n"
     ]
    }
   ],
   "source": [
    "from sklearn.metrics import accuracy_score, classification_report, confusion_matrix\n",
    "\n",
    "# Evaluate performance\n",
    "accuracy = accuracy_score(y_test, y_pred)\n",
    "print(f\"✅ Accuracy: {accuracy:.4f}\")\n",
    "\n",
    "# Detailed classification report\n",
    "print(\"\\n🔹 Classification Report:\")\n",
    "print(classification_report(y_test, y_pred))\n",
    "\n",
    "# Confusion matrix\n",
    "print(\"\\n🔹 Confusion Matrix:\")\n",
    "print(confusion_matrix(y_test, y_pred))\n"
   ]
  },
  {
   "cell_type": "code",
   "execution_count": 50,
   "metadata": {},
   "outputs": [
    {
     "data": {
      "image/png": "[encoded data removed]",
      "text/plain": [
       "<Figure size 640x480 with 1 Axes>"
      ]
     },
     "metadata": {},
     "output_type": "display_data"
    }
   ],
   "source": [
    "import matplotlib.pyplot as plt\n",
    "\n",
    "# Try different values of k\n",
    "k_values = range(1, 21)\n",
    "accuracies = []\n",
    "\n",
    "for k in k_values:\n",
    "    knn_model.k = k  # Change k value\n",
    "    y_pred = knn_model.predict(X_test)\n",
    "    accuracies.append(accuracy_score(y_test, y_pred))\n",
    "\n",
    "# Plot accuracy vs k\n",
    "plt.plot(k_values, accuracies, marker='o')\n",
    "plt.xlabel(\"Number of Neighbors (k)\")\n",
    "plt.ylabel(\"Accuracy\")\n",
    "plt.title(\"Hyperparameter Tuning: k vs Accuracy\")\n",
    "plt.show()\n"
   ]
  },
  {
   "cell_type": "code",
   "execution_count": null,
   "metadata": {},
   "outputs": [],
   "source": []
  }
 ],
 "metadata": {
  "kernelspec": {
   "display_name": "network_intrusion",
   "language": "python",
   "name": "python3"
  },
  "language_info": {
   "codemirror_mode": {
    "name": "ipython",
    "version": 3
   },
   "file_extension": ".py",
   "mimetype": "text/x-python",
   "name": "python",
   "nbconvert_exporter": "python",
   "pygments_lexer": "ipython3",
   "version": "3.13.2"
  }
 },
 "nbformat": 4,
 "nbformat_minor": 2
}
